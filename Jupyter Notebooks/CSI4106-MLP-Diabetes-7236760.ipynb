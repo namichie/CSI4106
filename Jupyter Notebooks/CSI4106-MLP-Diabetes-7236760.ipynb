{
 "cells": [
  {
   "cell_type": "markdown",
   "metadata": {},
   "source": [
    "# <center>Notebook #5</center>\n",
    "<center>Name: NamChi Nguyen</center>\n",
    "<center>Student ID: 7236760</center>"
   ]
  },
  {
   "cell_type": "markdown",
   "metadata": {},
   "source": [
    "# Neural networks\n",
    "### Multi-layer perceptron"
   ]
  },
  {
   "cell_type": "markdown",
   "metadata": {},
   "source": [
    "CSI4106 Artificial Intelligence  \n",
    "Fall 2018  \n",
    "Caroline Barrière\n",
    "\n",
    "***"
   ]
  },
  {
   "cell_type": "markdown",
   "metadata": {},
   "source": [
    "We are going into the medical domain for this notebook. The supervised classification task tackled in this notebook is about diabetes patient readmission in hospital, provided a certain set of features describing their physical state, as well as the procedure they went through during their stay, the medications they take, etc.\n",
    "\n",
    "Any *readmitted patient* is very costly for a medical system. It shows to some extent, that the patient was discharged before having fully recovered.  The dataset we explore splits readmission into 3 values: before 30 days, after 30 days, and none.  Understanding what conditions brings patients back to the hospital within 30 days is very important for a medical system, as these cases should be minimized.\n",
    "\n",
    "This notebook will allow you to pursue your understanding of experimental set-up for supervised machine learning, in particular supervised classification through the use of multi-layer perceptrons.\n",
    "\n",
    "We will make use of two packages: (1) **scikit-learn**, a great machine learning package, which you've experimented with in the last notebook, and (2) **pandas**, a must-have for data science.  Make sure you have the LATEST version of scikit-learn (version 0.20), otherwise some functions (the one-hot-encoder) will not work.\n",
    "\n",
    "As this is your 5th notebook this semester, some instructions will be a bit less explicit.\n",
    "\n",
    "***"
   ]
  },
  {
   "cell_type": "markdown",
   "metadata": {},
   "source": [
    "***HOMEWORK***:  \n",
    "Go through the notebook by running each cell, one at a time. Look for (**TO DO**) for the tasks that you need to perform.  \n",
    "Make sure you *sign* (type your name) the notebook at the end. Once you're done, submit your notebook.\n",
    "\n",
    "***"
   ]
  },
  {
   "cell_type": "markdown",
   "metadata": {},
   "source": [
    "**1. Obtaining the dataset**\n",
    "\n",
    "First, read the description of the dataset on Diabetes Readmission (https://www.kaggle.com/brandao/diabetes/home).  The content of this site is also copied in the file Diabetes-DatasetDescription.ipynb, so you can have it locally.  \n",
    "\n",
    "Download the dataset (file dataset_diabetes.zip) from the UCI archive:\n",
    "https://archive.ics.uci.edu/ml/datasets/Diabetes+130-US+hospitals+for+years+1999-2008\n",
    "\n",
    "Unzip the file *dataset_diabetes.zip* and there should be a file called *diabetic_data.csv* which we will use for our experiments.\n"
   ]
  },
  {
   "cell_type": "markdown",
   "metadata": {},
   "source": [
    "**2. Exploring the dataset**  \n",
    "We will use the package *pandas* to read the csv file.  It will create a data structure called a dataframe, which will contain all the data. \n",
    "\n",
    "If you get some errors when you import the packages, it's because they are not installed... make sure you do *pip install package_name* at the command prompt to have access to these packages."
   ]
  },
  {
   "cell_type": "code",
   "execution_count": 1,
   "metadata": {},
   "outputs": [],
   "source": [
    "# import the required packages for data analysis and machine learning\n",
    "\n",
    "import pandas as pd\n",
    "import sklearn"
   ]
  },
  {
   "cell_type": "markdown",
   "metadata": {},
   "source": [
    "The following code reads the csv file (which I've put under a repertory called *Diabetes*, but you should adjust the path to where you've put it).  And then, it shows the top rows."
   ]
  },
  {
   "cell_type": "code",
   "execution_count": 2,
   "metadata": {},
   "outputs": [
    {
     "data": {
      "text/html": [
       "<div>\n",
       "<style scoped>\n",
       "    .dataframe tbody tr th:only-of-type {\n",
       "        vertical-align: middle;\n",
       "    }\n",
       "\n",
       "    .dataframe tbody tr th {\n",
       "        vertical-align: top;\n",
       "    }\n",
       "\n",
       "    .dataframe thead th {\n",
       "        text-align: right;\n",
       "    }\n",
       "</style>\n",
       "<table border=\"1\" class=\"dataframe\">\n",
       "  <thead>\n",
       "    <tr style=\"text-align: right;\">\n",
       "      <th></th>\n",
       "      <th>encounter_id</th>\n",
       "      <th>patient_nbr</th>\n",
       "      <th>race</th>\n",
       "      <th>gender</th>\n",
       "      <th>age</th>\n",
       "      <th>weight</th>\n",
       "      <th>admission_type_id</th>\n",
       "      <th>discharge_disposition_id</th>\n",
       "      <th>admission_source_id</th>\n",
       "      <th>time_in_hospital</th>\n",
       "      <th>...</th>\n",
       "      <th>citoglipton</th>\n",
       "      <th>insulin</th>\n",
       "      <th>glyburide-metformin</th>\n",
       "      <th>glipizide-metformin</th>\n",
       "      <th>glimepiride-pioglitazone</th>\n",
       "      <th>metformin-rosiglitazone</th>\n",
       "      <th>metformin-pioglitazone</th>\n",
       "      <th>change</th>\n",
       "      <th>diabetesMed</th>\n",
       "      <th>readmitted</th>\n",
       "    </tr>\n",
       "  </thead>\n",
       "  <tbody>\n",
       "    <tr>\n",
       "      <th>0</th>\n",
       "      <td>2278392</td>\n",
       "      <td>8222157</td>\n",
       "      <td>Caucasian</td>\n",
       "      <td>Female</td>\n",
       "      <td>[0-10)</td>\n",
       "      <td>?</td>\n",
       "      <td>6</td>\n",
       "      <td>25</td>\n",
       "      <td>1</td>\n",
       "      <td>1</td>\n",
       "      <td>...</td>\n",
       "      <td>No</td>\n",
       "      <td>No</td>\n",
       "      <td>No</td>\n",
       "      <td>No</td>\n",
       "      <td>No</td>\n",
       "      <td>No</td>\n",
       "      <td>No</td>\n",
       "      <td>No</td>\n",
       "      <td>No</td>\n",
       "      <td>NO</td>\n",
       "    </tr>\n",
       "    <tr>\n",
       "      <th>1</th>\n",
       "      <td>149190</td>\n",
       "      <td>55629189</td>\n",
       "      <td>Caucasian</td>\n",
       "      <td>Female</td>\n",
       "      <td>[10-20)</td>\n",
       "      <td>?</td>\n",
       "      <td>1</td>\n",
       "      <td>1</td>\n",
       "      <td>7</td>\n",
       "      <td>3</td>\n",
       "      <td>...</td>\n",
       "      <td>No</td>\n",
       "      <td>Up</td>\n",
       "      <td>No</td>\n",
       "      <td>No</td>\n",
       "      <td>No</td>\n",
       "      <td>No</td>\n",
       "      <td>No</td>\n",
       "      <td>Ch</td>\n",
       "      <td>Yes</td>\n",
       "      <td>&gt;30</td>\n",
       "    </tr>\n",
       "    <tr>\n",
       "      <th>2</th>\n",
       "      <td>64410</td>\n",
       "      <td>86047875</td>\n",
       "      <td>AfricanAmerican</td>\n",
       "      <td>Female</td>\n",
       "      <td>[20-30)</td>\n",
       "      <td>?</td>\n",
       "      <td>1</td>\n",
       "      <td>1</td>\n",
       "      <td>7</td>\n",
       "      <td>2</td>\n",
       "      <td>...</td>\n",
       "      <td>No</td>\n",
       "      <td>No</td>\n",
       "      <td>No</td>\n",
       "      <td>No</td>\n",
       "      <td>No</td>\n",
       "      <td>No</td>\n",
       "      <td>No</td>\n",
       "      <td>No</td>\n",
       "      <td>Yes</td>\n",
       "      <td>NO</td>\n",
       "    </tr>\n",
       "    <tr>\n",
       "      <th>3</th>\n",
       "      <td>500364</td>\n",
       "      <td>82442376</td>\n",
       "      <td>Caucasian</td>\n",
       "      <td>Male</td>\n",
       "      <td>[30-40)</td>\n",
       "      <td>?</td>\n",
       "      <td>1</td>\n",
       "      <td>1</td>\n",
       "      <td>7</td>\n",
       "      <td>2</td>\n",
       "      <td>...</td>\n",
       "      <td>No</td>\n",
       "      <td>Up</td>\n",
       "      <td>No</td>\n",
       "      <td>No</td>\n",
       "      <td>No</td>\n",
       "      <td>No</td>\n",
       "      <td>No</td>\n",
       "      <td>Ch</td>\n",
       "      <td>Yes</td>\n",
       "      <td>NO</td>\n",
       "    </tr>\n",
       "    <tr>\n",
       "      <th>4</th>\n",
       "      <td>16680</td>\n",
       "      <td>42519267</td>\n",
       "      <td>Caucasian</td>\n",
       "      <td>Male</td>\n",
       "      <td>[40-50)</td>\n",
       "      <td>?</td>\n",
       "      <td>1</td>\n",
       "      <td>1</td>\n",
       "      <td>7</td>\n",
       "      <td>1</td>\n",
       "      <td>...</td>\n",
       "      <td>No</td>\n",
       "      <td>Steady</td>\n",
       "      <td>No</td>\n",
       "      <td>No</td>\n",
       "      <td>No</td>\n",
       "      <td>No</td>\n",
       "      <td>No</td>\n",
       "      <td>Ch</td>\n",
       "      <td>Yes</td>\n",
       "      <td>NO</td>\n",
       "    </tr>\n",
       "    <tr>\n",
       "      <th>5</th>\n",
       "      <td>35754</td>\n",
       "      <td>82637451</td>\n",
       "      <td>Caucasian</td>\n",
       "      <td>Male</td>\n",
       "      <td>[50-60)</td>\n",
       "      <td>?</td>\n",
       "      <td>2</td>\n",
       "      <td>1</td>\n",
       "      <td>2</td>\n",
       "      <td>3</td>\n",
       "      <td>...</td>\n",
       "      <td>No</td>\n",
       "      <td>Steady</td>\n",
       "      <td>No</td>\n",
       "      <td>No</td>\n",
       "      <td>No</td>\n",
       "      <td>No</td>\n",
       "      <td>No</td>\n",
       "      <td>No</td>\n",
       "      <td>Yes</td>\n",
       "      <td>&gt;30</td>\n",
       "    </tr>\n",
       "    <tr>\n",
       "      <th>6</th>\n",
       "      <td>55842</td>\n",
       "      <td>84259809</td>\n",
       "      <td>Caucasian</td>\n",
       "      <td>Male</td>\n",
       "      <td>[60-70)</td>\n",
       "      <td>?</td>\n",
       "      <td>3</td>\n",
       "      <td>1</td>\n",
       "      <td>2</td>\n",
       "      <td>4</td>\n",
       "      <td>...</td>\n",
       "      <td>No</td>\n",
       "      <td>Steady</td>\n",
       "      <td>No</td>\n",
       "      <td>No</td>\n",
       "      <td>No</td>\n",
       "      <td>No</td>\n",
       "      <td>No</td>\n",
       "      <td>Ch</td>\n",
       "      <td>Yes</td>\n",
       "      <td>NO</td>\n",
       "    </tr>\n",
       "    <tr>\n",
       "      <th>7</th>\n",
       "      <td>63768</td>\n",
       "      <td>114882984</td>\n",
       "      <td>Caucasian</td>\n",
       "      <td>Male</td>\n",
       "      <td>[70-80)</td>\n",
       "      <td>?</td>\n",
       "      <td>1</td>\n",
       "      <td>1</td>\n",
       "      <td>7</td>\n",
       "      <td>5</td>\n",
       "      <td>...</td>\n",
       "      <td>No</td>\n",
       "      <td>No</td>\n",
       "      <td>No</td>\n",
       "      <td>No</td>\n",
       "      <td>No</td>\n",
       "      <td>No</td>\n",
       "      <td>No</td>\n",
       "      <td>No</td>\n",
       "      <td>Yes</td>\n",
       "      <td>&gt;30</td>\n",
       "    </tr>\n",
       "    <tr>\n",
       "      <th>8</th>\n",
       "      <td>12522</td>\n",
       "      <td>48330783</td>\n",
       "      <td>Caucasian</td>\n",
       "      <td>Female</td>\n",
       "      <td>[80-90)</td>\n",
       "      <td>?</td>\n",
       "      <td>2</td>\n",
       "      <td>1</td>\n",
       "      <td>4</td>\n",
       "      <td>13</td>\n",
       "      <td>...</td>\n",
       "      <td>No</td>\n",
       "      <td>Steady</td>\n",
       "      <td>No</td>\n",
       "      <td>No</td>\n",
       "      <td>No</td>\n",
       "      <td>No</td>\n",
       "      <td>No</td>\n",
       "      <td>Ch</td>\n",
       "      <td>Yes</td>\n",
       "      <td>NO</td>\n",
       "    </tr>\n",
       "    <tr>\n",
       "      <th>9</th>\n",
       "      <td>15738</td>\n",
       "      <td>63555939</td>\n",
       "      <td>Caucasian</td>\n",
       "      <td>Female</td>\n",
       "      <td>[90-100)</td>\n",
       "      <td>?</td>\n",
       "      <td>3</td>\n",
       "      <td>3</td>\n",
       "      <td>4</td>\n",
       "      <td>12</td>\n",
       "      <td>...</td>\n",
       "      <td>No</td>\n",
       "      <td>Steady</td>\n",
       "      <td>No</td>\n",
       "      <td>No</td>\n",
       "      <td>No</td>\n",
       "      <td>No</td>\n",
       "      <td>No</td>\n",
       "      <td>Ch</td>\n",
       "      <td>Yes</td>\n",
       "      <td>NO</td>\n",
       "    </tr>\n",
       "  </tbody>\n",
       "</table>\n",
       "<p>10 rows × 50 columns</p>\n",
       "</div>"
      ],
      "text/plain": [
       "   encounter_id  patient_nbr             race  gender       age weight  \\\n",
       "0       2278392      8222157        Caucasian  Female    [0-10)      ?   \n",
       "1        149190     55629189        Caucasian  Female   [10-20)      ?   \n",
       "2         64410     86047875  AfricanAmerican  Female   [20-30)      ?   \n",
       "3        500364     82442376        Caucasian    Male   [30-40)      ?   \n",
       "4         16680     42519267        Caucasian    Male   [40-50)      ?   \n",
       "5         35754     82637451        Caucasian    Male   [50-60)      ?   \n",
       "6         55842     84259809        Caucasian    Male   [60-70)      ?   \n",
       "7         63768    114882984        Caucasian    Male   [70-80)      ?   \n",
       "8         12522     48330783        Caucasian  Female   [80-90)      ?   \n",
       "9         15738     63555939        Caucasian  Female  [90-100)      ?   \n",
       "\n",
       "   admission_type_id  discharge_disposition_id  admission_source_id  \\\n",
       "0                  6                        25                    1   \n",
       "1                  1                         1                    7   \n",
       "2                  1                         1                    7   \n",
       "3                  1                         1                    7   \n",
       "4                  1                         1                    7   \n",
       "5                  2                         1                    2   \n",
       "6                  3                         1                    2   \n",
       "7                  1                         1                    7   \n",
       "8                  2                         1                    4   \n",
       "9                  3                         3                    4   \n",
       "\n",
       "   time_in_hospital    ...     citoglipton insulin  glyburide-metformin  \\\n",
       "0                 1    ...              No      No                   No   \n",
       "1                 3    ...              No      Up                   No   \n",
       "2                 2    ...              No      No                   No   \n",
       "3                 2    ...              No      Up                   No   \n",
       "4                 1    ...              No  Steady                   No   \n",
       "5                 3    ...              No  Steady                   No   \n",
       "6                 4    ...              No  Steady                   No   \n",
       "7                 5    ...              No      No                   No   \n",
       "8                13    ...              No  Steady                   No   \n",
       "9                12    ...              No  Steady                   No   \n",
       "\n",
       "   glipizide-metformin  glimepiride-pioglitazone  metformin-rosiglitazone  \\\n",
       "0                   No                        No                       No   \n",
       "1                   No                        No                       No   \n",
       "2                   No                        No                       No   \n",
       "3                   No                        No                       No   \n",
       "4                   No                        No                       No   \n",
       "5                   No                        No                       No   \n",
       "6                   No                        No                       No   \n",
       "7                   No                        No                       No   \n",
       "8                   No                        No                       No   \n",
       "9                   No                        No                       No   \n",
       "\n",
       "   metformin-pioglitazone  change diabetesMed readmitted  \n",
       "0                      No      No          No         NO  \n",
       "1                      No      Ch         Yes        >30  \n",
       "2                      No      No         Yes         NO  \n",
       "3                      No      Ch         Yes         NO  \n",
       "4                      No      Ch         Yes         NO  \n",
       "5                      No      No         Yes        >30  \n",
       "6                      No      Ch         Yes         NO  \n",
       "7                      No      No         Yes        >30  \n",
       "8                      No      Ch         Yes         NO  \n",
       "9                      No      Ch         Yes         NO  \n",
       "\n",
       "[10 rows x 50 columns]"
      ]
     },
     "execution_count": 2,
     "metadata": {},
     "output_type": "execute_result"
    }
   ],
   "source": [
    "# Read the dataset, show top rows\n",
    "\n",
    "X = pd.read_csv(\"diabetic_data.csv\") #Path adjusted, no subdirectory Diabetes needed\n",
    "X.head(10)"
   ]
  },
  {
   "cell_type": "code",
   "execution_count": 3,
   "metadata": {},
   "outputs": [
    {
     "data": {
      "text/plain": [
       "['encounter_id',\n",
       " 'patient_nbr',\n",
       " 'race',\n",
       " 'gender',\n",
       " 'age',\n",
       " 'weight',\n",
       " 'admission_type_id',\n",
       " 'discharge_disposition_id',\n",
       " 'admission_source_id',\n",
       " 'time_in_hospital',\n",
       " 'payer_code',\n",
       " 'medical_specialty',\n",
       " 'num_lab_procedures',\n",
       " 'num_procedures',\n",
       " 'num_medications',\n",
       " 'number_outpatient',\n",
       " 'number_emergency',\n",
       " 'number_inpatient',\n",
       " 'diag_1',\n",
       " 'diag_2',\n",
       " 'diag_3',\n",
       " 'number_diagnoses',\n",
       " 'max_glu_serum',\n",
       " 'A1Cresult',\n",
       " 'metformin',\n",
       " 'repaglinide',\n",
       " 'nateglinide',\n",
       " 'chlorpropamide',\n",
       " 'glimepiride',\n",
       " 'acetohexamide',\n",
       " 'glipizide',\n",
       " 'glyburide',\n",
       " 'tolbutamide',\n",
       " 'pioglitazone',\n",
       " 'rosiglitazone',\n",
       " 'acarbose',\n",
       " 'miglitol',\n",
       " 'troglitazone',\n",
       " 'tolazamide',\n",
       " 'examide',\n",
       " 'citoglipton',\n",
       " 'insulin',\n",
       " 'glyburide-metformin',\n",
       " 'glipizide-metformin',\n",
       " 'glimepiride-pioglitazone',\n",
       " 'metformin-rosiglitazone',\n",
       " 'metformin-pioglitazone',\n",
       " 'change',\n",
       " 'diabetesMed',\n",
       " 'readmitted']"
      ]
     },
     "execution_count": 3,
     "metadata": {},
     "output_type": "execute_result"
    }
   ],
   "source": [
    "# Show all attributes\n",
    "list(X)"
   ]
  },
  {
   "cell_type": "code",
   "execution_count": 4,
   "metadata": {},
   "outputs": [
    {
     "name": "stdout",
     "output_type": "stream",
     "text": [
      "(101766, 50)\n",
      "Caucasian          76099\n",
      "AfricanAmerican    19210\n",
      "?                   2273\n",
      "Hispanic            2037\n",
      "Other               1506\n",
      "Asian                641\n",
      "Name: race, dtype: int64\n"
     ]
    }
   ],
   "source": [
    "# Examples of data exploration\n",
    "\n",
    "print(X.shape) \n",
    "print(X['race'].value_counts()) "
   ]
  },
  {
   "cell_type": "markdown",
   "metadata": {},
   "source": [
    "**(TO-DO - Q1)** Inspired by the little piece of code above, write code to answer the following questions.  You can do part of the process manually (the code needs to help you answer).\n",
    "\n",
    "1. How many examples are in the dataset ?\n",
    "2. How many features are in the dataset ? \n",
    "3. What are the possible age ranges, and the number of examples in each ?\n",
    "4. What are the prior probabilities of each class (>30, NO, <30) ?\n",
    "5. Are there some patient present in the dataset more than 20 times?"
   ]
  },
  {
   "cell_type": "code",
   "execution_count": 5,
   "metadata": {},
   "outputs": [
    {
     "name": "stdout",
     "output_type": "stream",
     "text": [
      "1. 101766 examples\n",
      "2. 49 features\n",
      "\n",
      "3. Age ranges\n",
      "[70-80)     26068\n",
      "[60-70)     22483\n",
      "[50-60)     17256\n",
      "[80-90)     17197\n",
      "[40-50)      9685\n",
      "[30-40)      3775\n",
      "[90-100)     2793\n",
      "[20-30)      1657\n",
      "[10-20)       691\n",
      "[0-10)        161\n",
      "Name: age, dtype: int64\n",
      "\n",
      "4. Prior probabilities\n",
      "NO     54864\n",
      ">30    35545\n",
      "<30    11357\n",
      "Name: readmitted, dtype: int64\n",
      "\n",
      "P(>30) =  35545 / 101766 = 0.3492816854352141\n",
      "P(NO) =  54864 / 101766 = 0.5391191557101586\n",
      "P(<30) =  11357 / 101766 = 0.11159915885462728\n",
      "\n",
      "5. Yes, there are 8 patients that are present in the dataset more than 20 times.\n",
      "\n",
      "88785891    40\n",
      "43140906    28\n",
      "23199021    23\n",
      "1660293     23\n",
      "88227540    23\n",
      "23643405    22\n",
      "84428613    22\n",
      "92709351    21\n",
      "23398488    20\n",
      "90609804    20\n",
      "Name: patient_nbr, dtype: int64\n",
      "\n",
      "88785891     True\n",
      "43140906     True\n",
      "23199021     True\n",
      "1660293      True\n",
      "88227540     True\n",
      "23643405     True\n",
      "84428613     True\n",
      "92709351     True\n",
      "23398488    False\n",
      "90609804    False\n",
      "Name: patient_nbr, dtype: bool\n"
     ]
    }
   ],
   "source": [
    "### YOUR CODE -- Write which question it answers\n",
    "# 1. How many examples are in the dataset ? (rows)\n",
    "print(\"1.\", X.shape[0], \"examples\")\n",
    "\n",
    "# 2. How many features are in the dataset ? (cols)\n",
    "print(\"2.\", X.shape[1] - 1, \"features\") # - 1 to exclude the readmitted column\n",
    "\n",
    "print()\n",
    "# 3. What are the possible age ranges, and the number of examples in each ?\n",
    "print(\"3. Age ranges\")\n",
    "print(X['age'].value_counts())\n",
    "print()\n",
    "\n",
    "# 4. What are the prior probabilities of each class (>30, NO, <30) ?\n",
    "print(\"4. Prior probabilities\")\n",
    "print(X['readmitted'].value_counts())\n",
    "\n",
    "print()\n",
    "denominator = X.shape[0]\n",
    "p_none = X['readmitted'].value_counts()[0]\n",
    "pg_30 = X['readmitted'].value_counts()[1]\n",
    "pl_30 = X['readmitted'].value_counts()[2]\n",
    "print(\"P(>30) = \",pg_30,\"/\", denominator, \"=\", pg_30/denominator)\n",
    "print(\"P(NO) = \", p_none, \"/\", denominator, \"=\", p_none/denominator)\n",
    "print(\"P(<30) = \", pl_30, \"/\", denominator, \"=\", pl_30/denominator)\n",
    "\n",
    "print()\n",
    "# 5. Are there some patient present in the dataset more than 20 times?\n",
    "print(\"5. Yes, there are 8 patients that are present in the dataset more than 20 times.\\n\")\n",
    "present = X['patient_nbr'].value_counts()\n",
    "print(present.head(10))\n",
    "print()\n",
    "num_times = X['patient_nbr'].value_counts() > 20\n",
    "print(num_times.head(10))\n",
    "\n",
    "#References for Q5:\n",
    "# cmdline, \"How To Filter Pandas Dataframe By Values of Column?\", Feb. 22, 2018, [Online]. Available: https://cmdlinetips.com/2018/02/how-to-subset-pandas-dataframe-based-on-values-of-a-column/. [Accessed: Nov. 7, 2018]"
   ]
  },
  {
   "cell_type": "markdown",
   "metadata": {},
   "source": [
    "**3.  Preparing the dataset for experimentation**\n",
    "\n",
    "We will do different steps to prepare the data for experimentations:  (1) extracting the class we wish to predict, (2) splitting the dataset into a training and a test set"
   ]
  },
  {
   "cell_type": "code",
   "execution_count": 6,
   "metadata": {},
   "outputs": [],
   "source": [
    "# This can ONLY BE DONE ONCE, as we pop the values into a new variable to be used as predicted class\n",
    "y = X.pop(\"readmitted\").values"
   ]
  },
  {
   "cell_type": "code",
   "execution_count": 7,
   "metadata": {},
   "outputs": [
    {
     "name": "stdout",
     "output_type": "stream",
     "text": [
      "(76324, 49)\n",
      "(25442,)\n"
     ]
    }
   ],
   "source": [
    "# split the large dataset into train and test\n",
    "from sklearn.model_selection import train_test_split\n",
    "\n",
    "X_train, X_test, y_train, y_test = train_test_split(X, y, test_size = 0.25)\n",
    "print(X_train.shape)\n",
    "print(y_test.shape)"
   ]
  },
  {
   "cell_type": "markdown",
   "metadata": {},
   "source": [
    "**4. Input encoding**\n",
    "\n",
    "We saw in class that any multi-value feature must be encoded into a one-hot vector.  The code below allows this encoding."
   ]
  },
  {
   "cell_type": "code",
   "execution_count": 8,
   "metadata": {},
   "outputs": [
    {
     "data": {
      "text/plain": [
       "OneHotEncoder(categorical_features=None, categories=None,\n",
       "       dtype=<class 'numpy.float64'>, handle_unknown='ignore',\n",
       "       n_values=None, sparse=False)"
      ]
     },
     "execution_count": 8,
     "metadata": {},
     "output_type": "execute_result"
    }
   ],
   "source": [
    "from sklearn import preprocessing\n",
    "from sklearn.preprocessing import OneHotEncoder\n",
    "\n",
    "# encoder\n",
    "ohe = OneHotEncoder(sparse=False, handle_unknown='ignore')\n",
    "\n",
    "# since the dataset is quite large, try a subset of features\n",
    "featureSet = ['race','gender','age', 'weight', 'time_in_hospital', 'num_lab_procedures', 'num_procedures',\n",
    " 'num_medications']\n",
    "\n",
    "# make a copy of the training set containing only the chosen features\n",
    "X_train_sf = X_train[featureSet].copy()\n",
    "X_test_sf = X_test[featureSet].copy()\n",
    "\n",
    "# IF you wanted to try with the full dataset, try to redo the steps with this (optional - takes a lot of time)\n",
    "# X_train_allf = X_train[:].copy()\n",
    "# X_test_allf = X_test[:].copy()\n",
    "\n",
    "# perform the one-hot encoder on the 3 features selected\n",
    "ohe.fit(X_train_sf)\n"
   ]
  },
  {
   "cell_type": "code",
   "execution_count": 9,
   "metadata": {},
   "outputs": [
    {
     "name": "stdout",
     "output_type": "stream",
     "text": [
      "['x0_?' 'x0_AfricanAmerican' 'x0_Asian' 'x0_Caucasian' 'x0_Hispanic'\n",
      " 'x0_Other' 'x1_Female' 'x1_Male' 'x1_Unknown/Invalid' 'x2_[0-10)'\n",
      " 'x2_[10-20)' 'x2_[20-30)' 'x2_[30-40)' 'x2_[40-50)' 'x2_[50-60)'\n",
      " 'x2_[60-70)' 'x2_[70-80)' 'x2_[80-90)' 'x2_[90-100)' 'x3_>200' 'x3_?'\n",
      " 'x3_[0-25)' 'x3_[100-125)' 'x3_[125-150)' 'x3_[150-175)' 'x3_[175-200)'\n",
      " 'x3_[25-50)' 'x3_[50-75)' 'x3_[75-100)' 'x4_1' 'x4_2' 'x4_3' 'x4_4'\n",
      " 'x4_5' 'x4_6' 'x4_7' 'x4_8' 'x4_9' 'x4_10' 'x4_11' 'x4_12' 'x4_13'\n",
      " 'x4_14' 'x5_1' 'x5_2' 'x5_3' 'x5_4' 'x5_5' 'x5_6' 'x5_7' 'x5_8' 'x5_9'\n",
      " 'x5_10' 'x5_11' 'x5_12' 'x5_13' 'x5_14' 'x5_15' 'x5_16' 'x5_17' 'x5_18'\n",
      " 'x5_19' 'x5_20' 'x5_21' 'x5_22' 'x5_23' 'x5_24' 'x5_25' 'x5_26' 'x5_27'\n",
      " 'x5_28' 'x5_29' 'x5_30' 'x5_31' 'x5_32' 'x5_33' 'x5_34' 'x5_35' 'x5_36'\n",
      " 'x5_37' 'x5_38' 'x5_39' 'x5_40' 'x5_41' 'x5_42' 'x5_43' 'x5_44' 'x5_45'\n",
      " 'x5_46' 'x5_47' 'x5_48' 'x5_49' 'x5_50' 'x5_51' 'x5_52' 'x5_53' 'x5_54'\n",
      " 'x5_55' 'x5_56' 'x5_57' 'x5_58' 'x5_59' 'x5_60' 'x5_61' 'x5_62' 'x5_63'\n",
      " 'x5_64' 'x5_65' 'x5_66' 'x5_67' 'x5_68' 'x5_69' 'x5_70' 'x5_71' 'x5_72'\n",
      " 'x5_73' 'x5_74' 'x5_75' 'x5_76' 'x5_77' 'x5_78' 'x5_79' 'x5_80' 'x5_81'\n",
      " 'x5_82' 'x5_83' 'x5_84' 'x5_85' 'x5_86' 'x5_87' 'x5_88' 'x5_89' 'x5_90'\n",
      " 'x5_91' 'x5_92' 'x5_93' 'x5_94' 'x5_95' 'x5_96' 'x5_97' 'x5_98' 'x5_99'\n",
      " 'x5_100' 'x5_101' 'x5_102' 'x5_103' 'x5_104' 'x5_105' 'x5_106' 'x5_108'\n",
      " 'x5_109' 'x5_111' 'x5_113' 'x5_114' 'x5_120' 'x5_121' 'x5_129' 'x6_0'\n",
      " 'x6_1' 'x6_2' 'x6_3' 'x6_4' 'x6_5' 'x6_6' 'x7_1' 'x7_2' 'x7_3' 'x7_4'\n",
      " 'x7_5' 'x7_6' 'x7_7' 'x7_8' 'x7_9' 'x7_10' 'x7_11' 'x7_12' 'x7_13'\n",
      " 'x7_14' 'x7_15' 'x7_16' 'x7_17' 'x7_18' 'x7_19' 'x7_20' 'x7_21' 'x7_22'\n",
      " 'x7_23' 'x7_24' 'x7_25' 'x7_26' 'x7_27' 'x7_28' 'x7_29' 'x7_30' 'x7_31'\n",
      " 'x7_32' 'x7_33' 'x7_34' 'x7_35' 'x7_36' 'x7_37' 'x7_38' 'x7_39' 'x7_40'\n",
      " 'x7_41' 'x7_42' 'x7_43' 'x7_44' 'x7_45' 'x7_46' 'x7_47' 'x7_48' 'x7_49'\n",
      " 'x7_50' 'x7_51' 'x7_52' 'x7_53' 'x7_54' 'x7_55' 'x7_56' 'x7_57' 'x7_58'\n",
      " 'x7_59' 'x7_60' 'x7_61' 'x7_62' 'x7_63' 'x7_64' 'x7_65' 'x7_66' 'x7_67'\n",
      " 'x7_68' 'x7_69' 'x7_70' 'x7_72' 'x7_74' 'x7_75' 'x7_79' 'x7_81']\n"
     ]
    }
   ],
   "source": [
    "# The one-hot-encoder renames the features\n",
    "\n",
    "feature_names = ohe.get_feature_names()\n",
    "print(feature_names)"
   ]
  },
  {
   "cell_type": "code",
   "execution_count": 10,
   "metadata": {},
   "outputs": [],
   "source": [
    "# We can now encode the training and test set with the new features\n",
    "\n",
    "X_train_sf_encoded = ohe.transform(X_train_sf)\n",
    "X_test_sf_encoded = ohe.transform(X_test_sf)"
   ]
  },
  {
   "cell_type": "markdown",
   "metadata": {},
   "source": [
    "**(TO-DO - Q2)** - How many features are there now, after the one-hot-encoder? Why so many? Show the shape of the training set now."
   ]
  },
  {
   "cell_type": "code",
   "execution_count": 11,
   "metadata": {},
   "outputs": [
    {
     "name": "stdout",
     "output_type": "stream",
     "text": [
      "Shape: (76324, 239)\n",
      "239 features after one-hot encoding\n",
      "There are many features because the values of the features are binarized and also become features.\n",
      "For example, taking the feature Gender and encoding it: F - (1, 0, 0), M - (0, 1, 0), Unknown - (0, 0, 1) so now Gender becomes 3 binary features\n"
     ]
    }
   ],
   "source": [
    "# We can see the shape of the training data\n",
    "print(\"Shape:\", X_train_sf_encoded.shape)\n",
    "print(X_train_sf_encoded.shape[1], \"features after one-hot encoding\")\n",
    "print(\"There are many features because the values of the features are binarized and also become features.\")\n",
    "print(\"For example, taking the feature Gender and encoding it: F - (1, 0, 0), M - (0, 1, 0), Unknown - (0, 0, 1) so now Gender becomes 3 binary features.\")\n",
    "\n",
    "#References:\n",
    "#J. Brownlee, \"Why One-Hot Encode Data in Machine Learning?\", July 28, 2017, [Online]. Available: https://machinelearningmastery.com/why-one-hot-encode-data-in-machine-learning/. [Accessed: Nov. 7, 2018]"
   ]
  },
  {
   "cell_type": "markdown",
   "metadata": {},
   "source": [
    "**5. Train the Multi-layer Perceptron**"
   ]
  },
  {
   "cell_type": "code",
   "execution_count": 12,
   "metadata": {},
   "outputs": [],
   "source": [
    "# Import the MLP model\n",
    "from sklearn.neural_network import MLPClassifier\n",
    "import datetime\n",
    "import matplotlib.pyplot as plt"
   ]
  },
  {
   "cell_type": "code",
   "execution_count": 13,
   "metadata": {},
   "outputs": [],
   "source": [
    "# Define the model\n",
    "clf = MLPClassifier(solver='lbfgs', alpha=1e-5, hidden_layer_sizes=(100, 2), random_state=1, max_iter=100, learning_rate_init=.01, warm_start=True)"
   ]
  },
  {
   "cell_type": "markdown",
   "metadata": {},
   "source": [
    "**(TO-DO - Q3)** - Explain the parameters chosen above, and explain what the \"score\" is (used below).  You will need to look into the documentation for MLPclassifier to understand the score."
   ]
  },
  {
   "cell_type": "markdown",
   "metadata": {},
   "source": [
    "<i>Parameters above:</i>  \n",
    "solver - used in weight optimization. lbfgs is of the quasi-Newton methods that have faster and better performance on small datasets.  The other options include sgd (stochastic gradient descent) and adam. \n",
    "\n",
    "alpha - L2 regularization term penalty in which L2 is the prediction that minimizes the sum of square error of training examples.  \n",
    "\n",
    "hidden_layer_sizes - the nth element that defines the number of neurons in the nth hidden layer. So, in this model, there are 2 hidden layers with 100 units each.\n",
    "\n",
    "random_state - the seed used by a random number generator if the value is an integer, otherwise it uses the instance of RandomState from np.random.  \n",
    "\n",
    "max_iter - the max # of iterations  \n",
    "\n",
    "learning_rate_init - the initial learning rate, and the step size in the updating of weights.  \n",
    "\n",
    "warm_start - when the result is true, it reuses the previous solution to fit for initialization. Else, the previous solution is removed. \n",
    "\n",
    "Score - returns the mean accuracy given the expected target features and test features\n",
    "\n",
    "<b>References:</b>  \n",
    "scikit-learn, \"sklearn.neural_network.MLPClassifier\", n.d., [Online]. Available: https://scikit-learn.org/stable/modules/generated/sklearn.neural_network.MLPClassifier.html. [Accessed: Nov. 7, 2018]\n",
    "\n",
    "StackOverflow, \"Python scikit learn MLPClassifier hidden_layer_sizes\", 2016, [Online]. Available:\n",
    "https://stackoverflow.com/questions/35363530/python-scikit-learn-mlpclassifier-hidden-layer-sizes. [Accessed: Nov. 7, 2018]"
   ]
  },
  {
   "cell_type": "code",
   "execution_count": 14,
   "metadata": {},
   "outputs": [
    {
     "name": "stdout",
     "output_type": "stream",
     "text": [
      "Iteration: 1-- 2018-11-19 12:53:35.217901\n",
      "Iteration: 2-- 2018-11-19 12:54:22.036995\n",
      "Iteration: 3-- 2018-11-19 12:55:06.351078\n",
      "Iteration: 4-- 2018-11-19 12:55:50.489955\n",
      "Iteration: 5-- 2018-11-19 12:56:34.502064\n",
      "Iteration: 6-- 2018-11-19 12:57:18.480359\n",
      "Iteration: 7-- 2018-11-19 12:58:02.881325\n",
      "Iteration: 8-- 2018-11-19 12:58:46.161164\n",
      "Iteration: 9-- 2018-11-19 12:59:30.041162\n",
      "[0.5735286410565484, 0.6118127980713799, 0.634636549447094, 0.6483543839421414, 0.6566086683087888, 0.661299198155233, 0.6647057282113097, 0.6683480949635763, 0.6702085844557413]\n"
     ]
    }
   ],
   "source": [
    "# This steps trains the model\n",
    "# ATTENTION - THIS CAN TAKE LONG IF YOU CHOSE MANY ITERATIONS AND/OR LARGE HIDDEN LAYERS\n",
    "# Each iteration, on my machine, takes about 80 seconds.  Be patient.\n",
    "scores_train = []\n",
    "for i in range(1,10):\n",
    "    print(\"Iteration: \" + str(i) + \"-- \" + str(datetime.datetime.now()))\n",
    "    clf.fit(X_train_sf_encoded, y_train)\n",
    "    score = clf.score(X_train_sf_encoded, y_train)\n",
    "    scores_train.append(score)\n",
    "print(scores_train)"
   ]
  },
  {
   "cell_type": "code",
   "execution_count": 15,
   "metadata": {},
   "outputs": [
    {
     "data": {
      "image/png": "[encoded data removed]",
      "text/plain": [
       "<Figure size 432x288 with 1 Axes>"
      ]
     },
     "metadata": {},
     "output_type": "display_data"
    }
   ],
   "source": [
    "# plot the scores\n",
    "plt.plot([i for i in range(len(scores_train))], scores_train)\n",
    "plt.ylabel('Score')\n",
    "plt.xlabel('Iteration')\n",
    "plt.show()"
   ]
  },
  {
   "cell_type": "markdown",
   "metadata": {},
   "source": [
    "**(TO-DO : Q4)** Describe what the code below shows."
   ]
  },
  {
   "cell_type": "markdown",
   "metadata": {},
   "source": [
    "The code below shows the first 10 predicted classes based on the one-hot encoded features and the results of the training set. It outputs the predicted probability of each class (ie. >30, NO, <30) of the training set.                                                                                                                      "
   ]
  },
  {
   "cell_type": "code",
   "execution_count": 16,
   "metadata": {},
   "outputs": [
    {
     "name": "stdout",
     "output_type": "stream",
     "text": [
      "['NO' 'NO' 'NO' 'NO' '>30' 'NO' 'NO' '>30' 'NO' 'NO']\n",
      "['NO' 'NO' 'NO' 'NO' '>30' '<30' '>30' '<30' 'NO' 'NO']\n"
     ]
    },
    {
     "data": {
      "text/plain": [
       "array([[0.10211548, 0.37839745, 0.51948708],\n",
       "       [0.00430876, 0.01721095, 0.97848029],\n",
       "       [0.09084075, 0.24827594, 0.66088332],\n",
       "       [0.09899147, 0.36724315, 0.53376537],\n",
       "       [0.27393503, 0.65938499, 0.06667998],\n",
       "       [0.10068824, 0.37330446, 0.5260073 ],\n",
       "       [0.10686141, 0.3952961 , 0.49784249],\n",
       "       [0.14412148, 0.52570213, 0.3301764 ],\n",
       "       [0.08915202, 0.33195702, 0.57889096],\n",
       "       [0.00207733, 0.00842005, 0.98950262]])"
      ]
     },
     "execution_count": 16,
     "metadata": {},
     "output_type": "execute_result"
    }
   ],
   "source": [
    "# Show the prediction on the first 10 examples\n",
    "y_predicted = clf.predict(X_train_sf_encoded[0:10])\n",
    "print(y_predicted)\n",
    "print(y_train[0:10])\n",
    "clf.predict_proba(X_train_sf_encoded[0:10])"
   ]
  },
  {
   "cell_type": "markdown",
   "metadata": {},
   "source": [
    "**5. Test the Multi-layer Perceptron**"
   ]
  },
  {
   "cell_type": "markdown",
   "metadata": {},
   "source": [
    "**(TO-DO - Q5)** Now that we've trained the model, evaluate on the test set.  What is the score?  How is it compared to the score on the training set?"
   ]
  },
  {
   "cell_type": "code",
   "execution_count": 17,
   "metadata": {},
   "outputs": [
    {
     "name": "stdout",
     "output_type": "stream",
     "text": [
      "Iteration: 1-- 2018-11-19 13:00:15.088063\n",
      "Iteration: 2-- 2018-11-19 13:00:30.261388\n",
      "Iteration: 3-- 2018-11-19 13:00:45.781393\n",
      "Iteration: 4-- 2018-11-19 13:01:01.827951\n",
      "Iteration: 5-- 2018-11-19 13:01:16.972578\n",
      "Iteration: 6-- 2018-11-19 13:01:33.309847\n",
      "Iteration: 7-- 2018-11-19 13:01:50.541605\n",
      "Iteration: 8-- 2018-11-19 13:02:06.041590\n",
      "Iteration: 9-- 2018-11-19 13:02:22.908545\n",
      "[0.5413882556402798, 0.5413882556402798, 0.5413882556402798, 0.551371747504127, 0.5593506799779892, 0.5639886801352095, 0.5668186463328355, 0.5685873752063517, 0.5697665277886959]\n"
     ]
    }
   ],
   "source": [
    "# The test set is encoded in here: X_test_sf_encoded\n",
    "scores_test = []\n",
    "for i in range(1,10):\n",
    "    print(\"Iteration: \" + str(i) + \"-- \" + str(datetime.datetime.now()))\n",
    "    clf.fit(X_test_sf_encoded, y_test)\n",
    "    score = clf.score(X_test_sf_encoded, y_test)\n",
    "    scores_test.append(score)\n",
    "print(scores_test)"
   ]
  },
  {
   "cell_type": "code",
   "execution_count": 18,
   "metadata": {},
   "outputs": [
    {
     "data": {
      "image/png": "[encoded data removed]",
      "text/plain": [
       "<Figure size 432x288 with 1 Axes>"
      ]
     },
     "metadata": {},
     "output_type": "display_data"
    }
   ],
   "source": [
    "# plot the scores of test set\n",
    "plt.plot([i for i in range(len(scores_test))], scores_test)\n",
    "plt.ylabel('Score')\n",
    "plt.xlabel('Iteration')\n",
    "plt.show()"
   ]
  },
  {
   "cell_type": "markdown",
   "metadata": {},
   "source": [
    "Note: the scores of the test set compared to the training set are sometimes lower or higher depending on the number of times the kernel is restarted. In general, the difference between the overall score varies between approximately 0.01 to 0.10 on the last iteration."
   ]
  },
  {
   "cell_type": "markdown",
   "metadata": {},
   "source": [
    "**6. Varying hyperparameters**\n",
    "\n",
    "There are many hyperparameters that can be varied (number of hidden layers, learning rate, etc).  It takes time to do these variations... we'll perform just two variations."
   ]
  },
  {
   "cell_type": "markdown",
   "metadata": {},
   "source": [
    "**(TO-DO - Q6)** - Redo the experiment above (train + test), changing the number and size of hidden layers to have three layers of 30 units each.  DO NOT CHANGE the code above directly, copy the part of the code needed below, using other variable names (this will allow to run the full notebook in a linear manner).  Compare the results with the first experiment, is it better? worst? Then keep the best model, and change the activation function to the sigmoid.  Better or worst?"
   ]
  },
  {
   "cell_type": "code",
   "execution_count": 19,
   "metadata": {},
   "outputs": [],
   "source": [
    "# Define the model #2 with 3 hidden layers, 30 units each\n",
    "clf2 = MLPClassifier(solver='lbfgs', alpha=1e-5, hidden_layer_sizes=(30, 3), random_state=1, max_iter=100, learning_rate_init=.01, warm_start=True)"
   ]
  },
  {
   "cell_type": "code",
   "execution_count": 20,
   "metadata": {},
   "outputs": [
    {
     "name": "stdout",
     "output_type": "stream",
     "text": [
      "Iteration: 1-- 2018-11-19 13:02:47.919588\n",
      "Iteration: 2-- 2018-11-19 13:03:07.991440\n",
      "Iteration: 3-- 2018-11-19 13:03:26.277800\n",
      "Iteration: 4-- 2018-11-19 13:03:47.451288\n",
      "Iteration: 5-- 2018-11-19 13:04:05.781589\n",
      "Iteration: 6-- 2018-11-19 13:04:26.402459\n",
      "Iteration: 7-- 2018-11-19 13:04:49.617926\n",
      "Iteration: 8-- 2018-11-19 13:05:08.568005\n",
      "Iteration: 9-- 2018-11-19 13:05:26.912894\n",
      "[0.5512944814213091, 0.5653529689219643, 0.5735417430952257, 0.577708191394581, 0.5800927624338347, 0.5823070069702846, 0.5834599863738797, 0.5846915780095383, 0.5854121901367852]\n"
     ]
    }
   ],
   "source": [
    "# Training model #2\n",
    "scores_train2 = []\n",
    "for i in range(1,10):\n",
    "    print(\"Iteration: \" + str(i) + \"-- \" + str(datetime.datetime.now()))\n",
    "    clf2.fit(X_train_sf_encoded, y_train)\n",
    "    score = clf2.score(X_train_sf_encoded, y_train)\n",
    "    scores_train2.append(score)\n",
    "print(scores_train2)"
   ]
  },
  {
   "cell_type": "code",
   "execution_count": 21,
   "metadata": {},
   "outputs": [
    {
     "data": {
      "image/png": "[encoded data removed]",
      "text/plain": [
       "<Figure size 432x288 with 1 Axes>"
      ]
     },
     "metadata": {},
     "output_type": "display_data"
    }
   ],
   "source": [
    "# plot the scores\n",
    "plt.plot([i for i in range(len(scores_train2))], scores_train2)\n",
    "plt.ylabel('Score')\n",
    "plt.xlabel('Iteration')\n",
    "plt.show()"
   ]
  },
  {
   "cell_type": "code",
   "execution_count": 22,
   "metadata": {},
   "outputs": [
    {
     "name": "stdout",
     "output_type": "stream",
     "text": [
      "Iteration: 1-- 2018-11-19 13:05:51.942770\n",
      "Iteration: 2-- 2018-11-19 13:05:59.582661\n",
      "Iteration: 3-- 2018-11-19 13:06:06.684557\n",
      "Iteration: 4-- 2018-11-19 13:06:13.038149\n",
      "Iteration: 5-- 2018-11-19 13:06:18.977799\n",
      "Iteration: 6-- 2018-11-19 13:06:24.750381\n",
      "Iteration: 7-- 2018-11-19 13:06:30.531207\n",
      "Iteration: 8-- 2018-11-19 13:06:36.421716\n",
      "Iteration: 9-- 2018-11-19 13:06:42.608165\n",
      "[0.5792783586196054, 0.6097004952440845, 0.6212168854649792, 0.6275843094096376, 0.6313575976731389, 0.6346985299897807, 0.637331970757016, 0.6378036317899536, 0.6388255640279852]\n"
     ]
    }
   ],
   "source": [
    "# Testing model #2\n",
    "scores_test2 = []\n",
    "for i in range(1,10):\n",
    "    print(\"Iteration: \" + str(i) + \"-- \" + str(datetime.datetime.now()))\n",
    "    clf2.fit(X_test_sf_encoded, y_test)\n",
    "    score = clf2.score(X_test_sf_encoded, y_test)\n",
    "    scores_test2.append(score)\n",
    "print(scores_test2)"
   ]
  },
  {
   "cell_type": "code",
   "execution_count": 23,
   "metadata": {},
   "outputs": [
    {
     "data": {
      "image/png": "[encoded data removed]",
      "text/plain": [
       "<Figure size 432x288 with 1 Axes>"
      ]
     },
     "metadata": {},
     "output_type": "display_data"
    }
   ],
   "source": [
    "# plot the scores of test set\n",
    "plt.plot([i for i in range(len(scores_test2))], scores_test2)\n",
    "plt.ylabel('Score')\n",
    "plt.xlabel('Iteration')\n",
    "plt.show()"
   ]
  },
  {
   "cell_type": "markdown",
   "metadata": {},
   "source": [
    "Compared to the 1st experiment using 2 hidden layers and 100 units, the 2nd model with 3 hidden layers and 30 units is better as it resulted in higher scores overall for the test set."
   ]
  },
  {
   "cell_type": "code",
   "execution_count": 24,
   "metadata": {},
   "outputs": [],
   "source": [
    "# Define the model #3 with sigmoid activation function, 3 hidden layers, 30 units each\n",
    "clf3 = MLPClassifier(activation= 'logistic', solver='lbfgs', alpha=1e-5, hidden_layer_sizes=(30, 3), random_state=1, max_iter=100, learning_rate_init=.01, warm_start=True)"
   ]
  },
  {
   "cell_type": "code",
   "execution_count": 25,
   "metadata": {},
   "outputs": [
    {
     "name": "stdout",
     "output_type": "stream",
     "text": [
      "Iteration: 1-- 2018-11-19 13:06:49.818121\n",
      "Iteration: 2-- 2018-11-19 13:07:09.886048\n",
      "Iteration: 3-- 2018-11-19 13:07:30.586228\n",
      "Iteration: 4-- 2018-11-19 13:07:52.902055\n",
      "Iteration: 5-- 2018-11-19 13:08:13.074279\n",
      "Iteration: 6-- 2018-11-19 13:08:32.704035\n",
      "Iteration: 7-- 2018-11-19 13:08:52.325856\n",
      "Iteration: 8-- 2018-11-19 13:09:12.554045\n",
      "Iteration: 9-- 2018-11-19 13:09:33.919531\n",
      "[0.5424768093915413, 0.5475997065143337, 0.5553168072952152, 0.5598501126775326, 0.5646585608720717, 0.5675148053037052, 0.5733976206697762, 0.5756773753996122, 0.5786253341019862]\n"
     ]
    }
   ],
   "source": [
    "# Training model #3\n",
    "scores_train3 = []\n",
    "for i in range(1,10):\n",
    "    print(\"Iteration: \" + str(i) + \"-- \" + str(datetime.datetime.now()))\n",
    "    clf3.fit(X_train_sf_encoded, y_train)\n",
    "    score = clf3.score(X_train_sf_encoded, y_train)\n",
    "    scores_train3.append(score)\n",
    "print(scores_train3)"
   ]
  },
  {
   "cell_type": "code",
   "execution_count": 26,
   "metadata": {},
   "outputs": [
    {
     "data": {
      "image/png": "[encoded data removed]",
      "text/plain": [
       "<Figure size 432x288 with 1 Axes>"
      ]
     },
     "metadata": {},
     "output_type": "display_data"
    }
   ],
   "source": [
    "# plot the scores\n",
    "plt.plot([i for i in range(len(scores_train3))], scores_train3)\n",
    "plt.ylabel('Score')\n",
    "plt.xlabel('Iteration')\n",
    "plt.show()"
   ]
  },
  {
   "cell_type": "code",
   "execution_count": 27,
   "metadata": {},
   "outputs": [
    {
     "name": "stdout",
     "output_type": "stream",
     "text": [
      "Iteration: 1-- 2018-11-19 13:09:54.502292\n",
      "Iteration: 2-- 2018-11-19 13:10:01.469746\n",
      "Iteration: 3-- 2018-11-19 13:10:08.173651\n",
      "Iteration: 4-- 2018-11-19 13:10:14.542264\n",
      "Iteration: 5-- 2018-11-19 13:10:21.100567\n",
      "Iteration: 6-- 2018-11-19 13:10:27.530618\n",
      "Iteration: 7-- 2018-11-19 13:10:34.312322\n",
      "Iteration: 8-- 2018-11-19 13:10:40.774478\n",
      "Iteration: 9-- 2018-11-19 13:10:47.210769\n",
      "[0.5785315619841207, 0.6011712915651285, 0.6271126483767, 0.6426774624636428, 0.6554909205251159, 0.6672038361764012, 0.6689725650499174, 0.6771873280402484, 0.6840264130178445]\n"
     ]
    }
   ],
   "source": [
    "# Testing model #3\n",
    "scores_test3 = []\n",
    "for i in range(1,10):\n",
    "    print(\"Iteration: \" + str(i) + \"-- \" + str(datetime.datetime.now()))\n",
    "    clf3.fit(X_test_sf_encoded, y_test)\n",
    "    score = clf3.score(X_test_sf_encoded, y_test)\n",
    "    scores_test3.append(score)\n",
    "print(scores_test3)"
   ]
  },
  {
   "cell_type": "code",
   "execution_count": 28,
   "metadata": {},
   "outputs": [
    {
     "data": {
      "image/png": "[encoded data removed]",
      "text/plain": [
       "<Figure size 432x288 with 1 Axes>"
      ]
     },
     "metadata": {},
     "output_type": "display_data"
    }
   ],
   "source": [
    "# plot the scores of test set\n",
    "plt.plot([i for i in range(len(scores_test3))], scores_test3)\n",
    "plt.ylabel('Score')\n",
    "plt.xlabel('Iteration')\n",
    "plt.show()"
   ]
  },
  {
   "cell_type": "markdown",
   "metadata": {},
   "source": [
    "Taking model #2 with the 3 hidden layers, 30 units and applying the sigmoid activation function for model #3 is better as it resulted in a higher score on average after 9 iterations for the test set."
   ]
  },
  {
   "cell_type": "markdown",
   "metadata": {},
   "source": [
    "**(TO_DO - Q7 - Optional)** -- Compare the results with the logistic regression classifier available in sklearn."
   ]
  },
  {
   "cell_type": "code",
   "execution_count": 29,
   "metadata": {},
   "outputs": [],
   "source": [
    "# Logistic regression\n",
    "# from sklearn.linear_model import LogisticRegression\n",
    "# ...."
   ]
  },
  {
   "cell_type": "markdown",
   "metadata": {},
   "source": [
    "#### Signature\n",
    "\n",
    "I, -------NamChi Nguyen--------------, declare that the answers provided in this notebook are my own."
   ]
  }
 ],
 "metadata": {
  "kernelspec": {
   "display_name": "Python 3",
   "language": "python",
   "name": "python3"
  },
  "language_info": {
   "codemirror_mode": {
    "name": "ipython",
    "version": 3
   },
   "file_extension": ".py",
   "mimetype": "text/x-python",
   "name": "python",
   "nbconvert_exporter": "python",
   "pygments_lexer": "ipython3",
   "version": "3.6.5"
  }
 },
 "nbformat": 4,
 "nbformat_minor": 2
}
